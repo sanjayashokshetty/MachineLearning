{
 "cells": [
  {
   "cell_type": "code",
   "execution_count": 27,
   "metadata": {},
   "outputs": [],
   "source": [
    "import pandas as pd\n",
    "import numpy as np\n",
    "data=pd.read_csv('SPECT.csv')\n",
    "X=data.drop([\"class\"],axis=1)\n",
    "Y=data[\"class\"]\n",
    "data=np.array(data)\n",
    "np.random.shuffle(data)\n",
    "\n",
    "\n",
    "n_features=len(data[0])-1\n",
    "n_data=len(data)\n",
    "\n",
    "for i in range(n_data):\n",
    "    if(data[i][n_features]==\"Yes\"):\n",
    "        data[i][n_features]=1\n",
    "    else:\n",
    "        data[i][n_features]=0\n",
    "\n",
    "#variables\n",
    "k=1\n",
    "n_classes=2\n",
    "k_fold=10\n",
    "n_catagorial=2\n",
    "#atrribute category class\n",
    "prob_attr_class=[[[0 for i in range(n_classes)]for i in range(n_catagorial)] for i in range(n_features)]\n",
    "num_classes=[0 for i in range(n_classes)]\n",
    "prob_classes=[0 for i in range(n_classes)]\n",
    "\n",
    "def kfolddata(j,data):\n",
    "    x_test=data[j*k_fold:(j+1)*k_fold,0:n_features]\n",
    "    y_test=data[j*k_fold:(j+1)*k_fold,n_features]\n",
    "    if(j+2<=k_fold):\n",
    "        x_train=data[(j+1)*k_fold:,0:n_features]\n",
    "        y_train=data[(j+1)*k_fold:,n_features]\n",
    "        if(j-1>=0):\n",
    "            x_train=np.append(x_train,data[0:j*k_fold,0:n_features],axis=0)\n",
    "            y_train=np.append(y_train,data[0:j*k_fold,n_features],axis=0)\n",
    "    else:\n",
    "        x_train=data[0:j*k_fold,0:n_features]\n",
    "        y_train=data[0:j*k_fold,n_features]\n",
    "    return x_train,y_train,x_test,y_test"
   ]
  },
  {
   "cell_type": "code",
   "execution_count": 28,
   "metadata": {},
   "outputs": [],
   "source": [
    "x_train,y_train,x_test,y_test=kfolddata(0,data)"
   ]
  },
  {
   "cell_type": "code",
   "execution_count": 29,
   "metadata": {},
   "outputs": [],
   "source": [
    "#class probability\n",
    "for i in range(len(x_train)):\n",
    "    num_classes[y_train[i]]+=1\n",
    "for i in range(n_classes):\n",
    "    prob_classes[i]=num_classes[i]/(len(x_train))"
   ]
  },
  {
   "cell_type": "code",
   "execution_count": 30,
   "metadata": {},
   "outputs": [
    {
     "ename": "SyntaxError",
     "evalue": "unexpected EOF while parsing (<ipython-input-30-4464b557310e>, line 4)",
     "output_type": "error",
     "traceback": [
      "\u001b[0;36m  File \u001b[0;32m\"<ipython-input-30-4464b557310e>\"\u001b[0;36m, line \u001b[0;32m4\u001b[0m\n\u001b[0;31m    \u001b[0m\n\u001b[0m    ^\u001b[0m\n\u001b[0;31mSyntaxError\u001b[0m\u001b[0;31m:\u001b[0m unexpected EOF while parsing\n"
     ]
    }
   ],
   "source": [
    "#attribute probablility\n",
    "for i in range(n_features):\n",
    "    for j in range(len(x_train)):\n",
    "        "
   ]
  },
  {
   "cell_type": "code",
   "execution_count": 24,
   "metadata": {},
   "outputs": [
    {
     "name": "stdout",
     "output_type": "stream",
     "text": [
      "[[105, 40, 0, 99], [144, 49, 0, 60], [114, 45, 0, 90], [137, 47, 0, 67], [115, 40, 0, 89], [149, 49, 0, 55], [135, 48, 0, 69], [104, 47, 0, 100], [135, 44, 0, 69], [117, 44, 0, 87], [146, 49, 0, 58], [134, 47, 0, 70], [86, 47, 0, 118], [136, 45, 0, 68], [162, 51, 0, 42], [129, 49, 0, 75], [168, 53, 0, 36], [172, 53, 0, 32], [149, 46, 0, 55], [128, 47, 0, 76], [117, 49, 0, 87], [105, 45, 0, 99]]\n"
     ]
    }
   ],
   "source": [
    "print(prob_attr_class)"
   ]
  },
  {
   "cell_type": "code",
   "execution_count": null,
   "metadata": {
    "collapsed": true
   },
   "outputs": [],
   "source": [
    "for i range(len())"
   ]
  }
 ],
 "metadata": {
  "kernelspec": {
   "display_name": "Python 3",
   "language": "python",
   "name": "python3"
  },
  "language_info": {
   "codemirror_mode": {
    "name": "ipython",
    "version": 3
   },
   "file_extension": ".py",
   "mimetype": "text/x-python",
   "name": "python",
   "nbconvert_exporter": "python",
   "pygments_lexer": "ipython3",
   "version": "3.6.3"
  }
 },
 "nbformat": 4,
 "nbformat_minor": 2
}
