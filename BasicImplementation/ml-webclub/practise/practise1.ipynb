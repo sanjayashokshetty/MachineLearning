{
 "cells": [
  {
   "cell_type": "code",
   "execution_count": 3,
   "metadata": {},
   "outputs": [
    {
     "name": "stdout",
     "output_type": "stream",
     "text": [
      "[[1 2 3]\n",
      " [7 6 8]]\n"
     ]
    }
   ],
   "source": [
    "import numpy as np\n",
    "a=np.array([[1,2,3],[7,6,8]])\n",
    "print(a)"
   ]
  },
  {
   "cell_type": "code",
   "execution_count": 4,
   "metadata": {},
   "outputs": [
    {
     "name": "stdout",
     "output_type": "stream",
     "text": [
      "[[1]\n",
      " [2]\n",
      " [3]\n",
      " [7]\n",
      " [6]\n",
      " [8]]\n"
     ]
    }
   ],
   "source": [
    "b=a.reshape(6,1)\n",
    "print(b)"
   ]
  },
  {
   "cell_type": "code",
   "execution_count": 5,
   "metadata": {},
   "outputs": [
    {
     "name": "stdout",
     "output_type": "stream",
     "text": [
      "0.0 \n",
      " float64 [ 3.  3.  3.]\n"
     ]
    }
   ],
   "source": [
    "c=np.zeros((2,2))\n",
    "d=np.ones((3,3))\n",
    "print(np.sum(c),'\\n',d.dtype,np.sum(d,axis=0))"
   ]
  },
  {
   "cell_type": "code",
   "execution_count": 6,
   "metadata": {
    "collapsed": true
   },
   "outputs": [],
   "source": [
    "a=np.arange(10)\n",
    "%matplotlib inline"
   ]
  },
  {
   "cell_type": "code",
   "execution_count": 7,
   "metadata": {
    "collapsed": true
   },
   "outputs": [],
   "source": [
    "from matplotlib import pyplot as plt\n"
   ]
  },
  {
   "cell_type": "code",
   "execution_count": 57,
   "metadata": {},
   "outputs": [
    {
     "name": "stdout",
     "output_type": "stream",
     "text": [
      "[[[[-0.53250399 -0.32891854]\n",
      "   [ 2.2456814  -0.7657499 ]\n",
      "   [-0.59384671  0.30082055]]\n",
      "\n",
      "  [[-0.68701085  0.44621817]\n",
      "   [ 0.01261861 -1.12060409]\n",
      "   [-0.89379984 -1.3283859 ]]\n",
      "\n",
      "  [[ 0.4141009  -0.21527151]\n",
      "   [ 1.31942416 -1.39055798]\n",
      "   [-0.04724485 -1.30822648]]]\n",
      "\n",
      "\n",
      " [[[ 1.57113665  1.08093504]\n",
      "   [ 0.1255856  -0.6104798 ]\n",
      "   [-0.45851885 -0.08300936]]\n",
      "\n",
      "  [[ 0.52901284  0.55426141]\n",
      "   [ 0.00973448 -1.40651062]\n",
      "   [-1.17231651  0.52128273]]\n",
      "\n",
      "  [[-0.69047066 -0.0804845 ]\n",
      "   [-1.79931627 -0.48556748]\n",
      "   [ 0.58567994 -0.46402183]]]\n",
      "\n",
      "\n",
      " [[[ 1.81144522  1.1001897 ]\n",
      "   [-0.16313803 -0.62086844]\n",
      "   [-2.56820051 -0.05292223]]\n",
      "\n",
      "  [[-1.96301139  1.25762041]\n",
      "   [-0.02085645 -0.53817518]\n",
      "   [-1.01454338 -0.36698081]]\n",
      "\n",
      "  [[-0.566742    0.08689656]\n",
      "   [ 1.39504187  0.54837316]\n",
      "   [-0.90002892 -0.56147226]]]\n",
      "\n",
      "\n",
      " [[[-1.35375738 -1.2623157 ]\n",
      "   [ 2.40636946 -0.82869209]\n",
      "   [-1.49340527  0.97754628]]\n",
      "\n",
      "  [[-0.27324978  0.31001683]\n",
      "   [-1.49072992  0.77467003]\n",
      "   [ 0.64876988  0.31853875]]\n",
      "\n",
      "  [[ 0.0440081   0.28666579]\n",
      "   [ 1.2354626   0.14018909]\n",
      "   [ 0.18748524 -1.20611852]]]]\n"
     ]
    }
   ],
   "source": [
    "x = np.random.randn(4, 3, 3, 2)\n",
    "print(x)"
   ]
  },
  {
   "cell_type": "code",
   "execution_count": 60,
   "metadata": {},
   "outputs": [
    {
     "name": "stdout",
     "output_type": "stream",
     "text": [
      "[[-1.35375738 -1.2623157 ]\n",
      " [ 2.40636946 -0.82869209]\n",
      " [-1.49340527  0.97754628]]\n"
     ]
    }
   ],
   "source": [
    "print(x[3,0])"
   ]
  }
 ],
 "metadata": {
  "kernelspec": {
   "display_name": "Python 3",
   "language": "python",
   "name": "python3"
  },
  "language_info": {
   "codemirror_mode": {
    "name": "ipython",
    "version": 3
   },
   "file_extension": ".py",
   "mimetype": "text/x-python",
   "name": "python",
   "nbconvert_exporter": "python",
   "pygments_lexer": "ipython3",
   "version": "3.6.3"
  }
 },
 "nbformat": 4,
 "nbformat_minor": 2
}
